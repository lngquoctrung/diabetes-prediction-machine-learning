{
 "cells": [
  {
   "cell_type": "markdown",
   "id": "d9d87a02-0c07-461a-99e9-aac57f0073c3",
   "metadata": {
    "panel-layout": {
     "height": 211.234375,
     "visible": true,
     "width": 100
    }
   },
   "source": [
    "## **0. Giới thiệu**\n",
    "\n",
    "Trong nội dung này, chúng ta sẽ sử dụng lại những mô hình đã được huấn luyện trên bộ dữ liệu **Diabetes** năm **2021** và dự đoán dựa trên bộ dữ liệu **Diabetes** được trích xuất của năm **2023**.\n",
    "\n",
    "Để có được bộ dữ liệu **Diabetes của năm 2023**, chúng ta sẽ sử dụng đến bộ dữ liệu **BRFSS** được **CDC** công bố vào cuối năm 2023. Thực tế, bộ dữ liệu của năm 2021 cũng được lấy từ dữ liệu BRFSS của năm 2021, nên chúng ta có thể dựa vào điều này để khai thác được dữ liệu mới cho năm 2023.\n",
    "\n",
    "**Lưu ý**: Đây coi thể coi là **phương pháp thử nghiệm** kiểm tra độ chính xác của mô hình trên dữ liệu mới, trên thực tế thì 2 bộ dữ liệu này đã có sự thay đổi trong 2 năm trở lại đây. Ngoài ra, chúng ta được biết là năm 2021 là năm mà vấn đề về bệnh **COVID-19** vẫn còn đang là chủ đề nóng và sẽ có vài sự ảnh hưởng đến kết quả của cuộc khảo sát, nhưng đến những năm gần đây hay thời điểm hiện tại thì nó đã đã không còn là vấn đề đau đầu cho lĩnh vực y tế, nên đôi khi cả 2 bộ dữ liệu này sẽ có một vài sự thay đổi hoặc chênh lệch trong suốt 2 năm qua. Mặc dù vậy, dựa theo codebook của năm [2021](https://www.cdc.gov/brfss/annual_data/annual_2021.html) và năm [2023](https://www.cdc.gov/brfss/annual_data/annual_2023.html) của bộ dữ liệu **BRFSS** thì chúng ta có thể thấy được sự thay đổi về thông tin của bệnh tiểu đường là không quá nhiều trong 2 năm qua. Nên việc thử nghiệm này có thể được coi là **khả thi**."
   ]
  },
  {
   "cell_type": "markdown",
   "id": "73b664fe-5113-448c-a498-f71acbb548a4",
   "metadata": {
    "panel-layout": {
     "height": 50.796875,
     "visible": true,
     "width": 100
    }
   },
   "source": [
    "## **1. Thư viện**"
   ]
  },
  {
   "cell_type": "code",
   "execution_count": 463,
   "id": "7492da1e-33bf-41a0-ba31-63835a3acf7c",
   "metadata": {},
   "outputs": [],
   "source": [
    "from tqdm import tqdm\n",
    "\n",
    "import pandas as pd\n",
    "import requests\n",
    "import os\n",
    "import joblib\n",
    "import zipfile\n",
    "\n",
    "from sklearn.metrics import accuracy_score, precision_score, recall_score, roc_auc_score, roc_curve, f1_score, classification_report"
   ]
  },
  {
   "cell_type": "markdown",
   "id": "c2b1048f-959c-4d76-84b1-5e7169c5d251",
   "metadata": {
    "panel-layout": {
     "height": 50.796875,
     "visible": true,
     "width": 100
    }
   },
   "source": [
    "## **2. Dữ liệu BRFSS**\n",
    "\n",
    "Đầu tiên, chúng ta sẽ tải bộ dữ liệu [BFRSS 2023](https://www.cdc.gov/brfss/annual_data/annual_2023.html) từ trang chủ của CDC theo mục **Data Files**. Dựa vào mục **Data Files** của CDC mô tả, chúng ta sẽ ưu tiên sử dụng file dạng SAS vì đây là dạng file được thư viện **Pandas** hổ trợ.\n",
    "\n",
    "Bên dưới là hàm `get_sas_data()`, hàm này có chức năng là gọi api đến trang CDC và fetch file dữ liệu dưới dạng zip về local và extract để lấy được file XPT từ file zip."
   ]
  },
  {
   "cell_type": "code",
   "execution_count": 13,
   "id": "4b5a11ce-db06-437d-ba8c-b752d9aeb664",
   "metadata": {},
   "outputs": [],
   "source": [
    "def get_sas_data(url):\n",
    "    # Thư mục lưu các file\n",
    "    dest_path = 'data'\n",
    "    \n",
    "    # Tạo folder data nếu chưa tồn tại\n",
    "    if not os.path.exists(dest_path):\n",
    "        print('Đang tạo thư mục chứa dữ liệu...')\n",
    "        os.mkdir(dest_path)\n",
    "        print('Đã tạo thành công...')\n",
    "        \n",
    "    # Tách tên file từ url\n",
    "    zip_file_name = url.split('/')[-1]\n",
    "    zip_file_path = f'./{dest_path}/{zip_file_name}'\n",
    "\n",
    "    # Tải file zip nếu file chưa tồn tại\n",
    "    if not os.path.exists(zip_file_path):\n",
    "        print(f'File {zip_file_name} chưa tồn tại trong thư mục data, đang tải xuống, vui lòng đợi...')\n",
    "        # Tải file - stream=True: cho phép tải file theo từng chunk\n",
    "        response = requests.get(url, stream=True)\n",
    "        \n",
    "        # Lấy kích thước file\n",
    "        total_size = int(response.headers.get('Content-Length', 0))\n",
    "        \n",
    "        # Ghi file xuống local và hiển thị progress\n",
    "        with open(zip_file_path, 'wb') as file, tqdm(\n",
    "            desc=f'{zip_file_path}',    # Mô tả sẽ xuất hiện ở mỗi progress\n",
    "            total=total_size,           # Tổng kích thước của file cần tải\n",
    "            unit='B',                   # Đơn vị là Byte\n",
    "            unit_scale=True,            # Tự động chuyển đổi sang đơn vị KB, MB, GB nếu kích thước file lớn\n",
    "            unit_divisor=1024,          # Hệ số chuyển đổi giữa các đơn vị, 1024B = 1KB\n",
    "        ) as progress_bar:\n",
    "            # Đọc và ghi từng chunk dữ liệu\n",
    "            for data in response.iter_content(chunk_size=1024):\n",
    "                size = file.write(data)\n",
    "                progress_bar.update(size)\n",
    "            print(f'File {zip_file_name} đã được tải và lưu vào thư mục {dest_path}')\n",
    "                \n",
    "    # File zip đã tồn tại\n",
    "    with zipfile.ZipFile(zip_file_path, 'r') as zip_ref:\n",
    "        sas_file_name = zip_ref.namelist()[0]\n",
    "        sas_file_path = f'./{dest_path}/{sas_file_name}'\n",
    "\n",
    "        # Unzip file nếu file SAS chưa tồn tại\n",
    "        if not os.path.exists(sas_file_path):\n",
    "            print('Đang giải nén file...')\n",
    "            zip_ref.extract(sas_file_name, dest_path)\n",
    "            print(f'Đã giải nén file và lưu file {sas_file_name} vào thư mục {dest_path}')\n",
    "\n",
    "        print('Đang đọc file...')\n",
    "        df = pd.read_sas(sas_file_path)\n",
    "        print('Đọc file thành công!!')\n",
    "\n",
    "        return df"
   ]
  },
  {
   "cell_type": "code",
   "execution_count": 15,
   "id": "62f71a40-c045-4858-b592-70af7e463693",
   "metadata": {},
   "outputs": [
    {
     "name": "stdout",
     "output_type": "stream",
     "text": [
      "File LLCP2023XPT.zip chưa tồn tại trong thư mục data, đang tải xuống, vui lòng đợi...\n"
     ]
    },
    {
     "name": "stderr",
     "output_type": "stream",
     "text": [
      "./data/LLCP2023XPT.zip: 100%|██████████████| 88.9M/88.9M [00:05<00:00, 17.3MB/s]\n"
     ]
    },
    {
     "name": "stdout",
     "output_type": "stream",
     "text": [
      "File LLCP2023XPT.zip đã được tải và lưu vào thư mục data\n",
      "Đang giải nén file...\n",
      "Đã giải nén file và lưu file LLCP2023.XPT  vào thư mục data\n",
      "Đang đọc file...\n",
      "Đọc file thành công!!\n"
     ]
    }
   ],
   "source": [
    "url = 'https://www.cdc.gov/brfss/annual_data/2023/files/LLCP2023XPT.zip'\n",
    "brfss_df = get_sas_data(url)"
   ]
  },
  {
   "cell_type": "code",
   "execution_count": 16,
   "id": "885eb118-795c-40dd-9be9-d0bb72a07c0b",
   "metadata": {},
   "outputs": [
    {
     "data": {
      "text/html": [
       "<div>\n",
       "<style scoped>\n",
       "    .dataframe tbody tr th:only-of-type {\n",
       "        vertical-align: middle;\n",
       "    }\n",
       "\n",
       "    .dataframe tbody tr th {\n",
       "        vertical-align: top;\n",
       "    }\n",
       "\n",
       "    .dataframe thead th {\n",
       "        text-align: right;\n",
       "    }\n",
       "</style>\n",
       "<table border=\"1\" class=\"dataframe\">\n",
       "  <thead>\n",
       "    <tr style=\"text-align: right;\">\n",
       "      <th></th>\n",
       "      <th>_STATE</th>\n",
       "      <th>FMONTH</th>\n",
       "      <th>IDATE</th>\n",
       "      <th>IMONTH</th>\n",
       "      <th>IDAY</th>\n",
       "      <th>IYEAR</th>\n",
       "      <th>DISPCODE</th>\n",
       "      <th>SEQNO</th>\n",
       "      <th>_PSU</th>\n",
       "      <th>CTELENM1</th>\n",
       "      <th>...</th>\n",
       "      <th>DROCDY4_</th>\n",
       "      <th>_RFBING6</th>\n",
       "      <th>_DRNKWK2</th>\n",
       "      <th>_RFDRHV8</th>\n",
       "      <th>_FLSHOT7</th>\n",
       "      <th>_PNEUMO3</th>\n",
       "      <th>_AIDTST4</th>\n",
       "      <th>_RFSEAT2</th>\n",
       "      <th>_RFSEAT3</th>\n",
       "      <th>_DRNKDRV</th>\n",
       "    </tr>\n",
       "  </thead>\n",
       "  <tbody>\n",
       "    <tr>\n",
       "      <th>0</th>\n",
       "      <td>1.0</td>\n",
       "      <td>1.0</td>\n",
       "      <td>b'03012023'</td>\n",
       "      <td>b'03'</td>\n",
       "      <td>b'01'</td>\n",
       "      <td>b'2023'</td>\n",
       "      <td>1100.0</td>\n",
       "      <td>b'2023000001'</td>\n",
       "      <td>2.023000e+09</td>\n",
       "      <td>1.0</td>\n",
       "      <td>...</td>\n",
       "      <td>5.397605e-79</td>\n",
       "      <td>1.0</td>\n",
       "      <td>5.397605e-79</td>\n",
       "      <td>1.0</td>\n",
       "      <td>2.0</td>\n",
       "      <td>2.0</td>\n",
       "      <td>2.0</td>\n",
       "      <td>1.0</td>\n",
       "      <td>1.0</td>\n",
       "      <td>9.0</td>\n",
       "    </tr>\n",
       "    <tr>\n",
       "      <th>1</th>\n",
       "      <td>1.0</td>\n",
       "      <td>1.0</td>\n",
       "      <td>b'01062023'</td>\n",
       "      <td>b'01'</td>\n",
       "      <td>b'06'</td>\n",
       "      <td>b'2023'</td>\n",
       "      <td>1100.0</td>\n",
       "      <td>b'2023000002'</td>\n",
       "      <td>2.023000e+09</td>\n",
       "      <td>1.0</td>\n",
       "      <td>...</td>\n",
       "      <td>5.397605e-79</td>\n",
       "      <td>1.0</td>\n",
       "      <td>5.397605e-79</td>\n",
       "      <td>1.0</td>\n",
       "      <td>1.0</td>\n",
       "      <td>1.0</td>\n",
       "      <td>2.0</td>\n",
       "      <td>1.0</td>\n",
       "      <td>1.0</td>\n",
       "      <td>9.0</td>\n",
       "    </tr>\n",
       "    <tr>\n",
       "      <th>2</th>\n",
       "      <td>1.0</td>\n",
       "      <td>1.0</td>\n",
       "      <td>b'03082023'</td>\n",
       "      <td>b'03'</td>\n",
       "      <td>b'08'</td>\n",
       "      <td>b'2023'</td>\n",
       "      <td>1100.0</td>\n",
       "      <td>b'2023000003'</td>\n",
       "      <td>2.023000e+09</td>\n",
       "      <td>1.0</td>\n",
       "      <td>...</td>\n",
       "      <td>5.397605e-79</td>\n",
       "      <td>1.0</td>\n",
       "      <td>5.397605e-79</td>\n",
       "      <td>1.0</td>\n",
       "      <td>1.0</td>\n",
       "      <td>1.0</td>\n",
       "      <td>2.0</td>\n",
       "      <td>1.0</td>\n",
       "      <td>1.0</td>\n",
       "      <td>9.0</td>\n",
       "    </tr>\n",
       "    <tr>\n",
       "      <th>3</th>\n",
       "      <td>1.0</td>\n",
       "      <td>1.0</td>\n",
       "      <td>b'03062023'</td>\n",
       "      <td>b'03'</td>\n",
       "      <td>b'06'</td>\n",
       "      <td>b'2023'</td>\n",
       "      <td>1100.0</td>\n",
       "      <td>b'2023000004'</td>\n",
       "      <td>2.023000e+09</td>\n",
       "      <td>1.0</td>\n",
       "      <td>...</td>\n",
       "      <td>5.397605e-79</td>\n",
       "      <td>1.0</td>\n",
       "      <td>5.397605e-79</td>\n",
       "      <td>1.0</td>\n",
       "      <td>1.0</td>\n",
       "      <td>1.0</td>\n",
       "      <td>1.0</td>\n",
       "      <td>1.0</td>\n",
       "      <td>1.0</td>\n",
       "      <td>9.0</td>\n",
       "    </tr>\n",
       "    <tr>\n",
       "      <th>4</th>\n",
       "      <td>1.0</td>\n",
       "      <td>1.0</td>\n",
       "      <td>b'01062023'</td>\n",
       "      <td>b'01'</td>\n",
       "      <td>b'06'</td>\n",
       "      <td>b'2023'</td>\n",
       "      <td>1100.0</td>\n",
       "      <td>b'2023000005'</td>\n",
       "      <td>2.023000e+09</td>\n",
       "      <td>1.0</td>\n",
       "      <td>...</td>\n",
       "      <td>7.000000e+00</td>\n",
       "      <td>1.0</td>\n",
       "      <td>4.700000e+01</td>\n",
       "      <td>1.0</td>\n",
       "      <td>2.0</td>\n",
       "      <td>1.0</td>\n",
       "      <td>2.0</td>\n",
       "      <td>1.0</td>\n",
       "      <td>1.0</td>\n",
       "      <td>2.0</td>\n",
       "    </tr>\n",
       "  </tbody>\n",
       "</table>\n",
       "<p>5 rows × 350 columns</p>\n",
       "</div>"
      ],
      "text/plain": [
       "   _STATE  FMONTH        IDATE IMONTH   IDAY    IYEAR  DISPCODE  \\\n",
       "0     1.0     1.0  b'03012023'  b'03'  b'01'  b'2023'    1100.0   \n",
       "1     1.0     1.0  b'01062023'  b'01'  b'06'  b'2023'    1100.0   \n",
       "2     1.0     1.0  b'03082023'  b'03'  b'08'  b'2023'    1100.0   \n",
       "3     1.0     1.0  b'03062023'  b'03'  b'06'  b'2023'    1100.0   \n",
       "4     1.0     1.0  b'01062023'  b'01'  b'06'  b'2023'    1100.0   \n",
       "\n",
       "           SEQNO          _PSU  CTELENM1  ...      DROCDY4_  _RFBING6  \\\n",
       "0  b'2023000001'  2.023000e+09       1.0  ...  5.397605e-79       1.0   \n",
       "1  b'2023000002'  2.023000e+09       1.0  ...  5.397605e-79       1.0   \n",
       "2  b'2023000003'  2.023000e+09       1.0  ...  5.397605e-79       1.0   \n",
       "3  b'2023000004'  2.023000e+09       1.0  ...  5.397605e-79       1.0   \n",
       "4  b'2023000005'  2.023000e+09       1.0  ...  7.000000e+00       1.0   \n",
       "\n",
       "       _DRNKWK2  _RFDRHV8  _FLSHOT7  _PNEUMO3  _AIDTST4  _RFSEAT2  _RFSEAT3  \\\n",
       "0  5.397605e-79       1.0       2.0       2.0       2.0       1.0       1.0   \n",
       "1  5.397605e-79       1.0       1.0       1.0       2.0       1.0       1.0   \n",
       "2  5.397605e-79       1.0       1.0       1.0       2.0       1.0       1.0   \n",
       "3  5.397605e-79       1.0       1.0       1.0       1.0       1.0       1.0   \n",
       "4  4.700000e+01       1.0       2.0       1.0       2.0       1.0       1.0   \n",
       "\n",
       "   _DRNKDRV  \n",
       "0       9.0  \n",
       "1       9.0  \n",
       "2       9.0  \n",
       "3       9.0  \n",
       "4       2.0  \n",
       "\n",
       "[5 rows x 350 columns]"
      ]
     },
     "execution_count": 16,
     "metadata": {},
     "output_type": "execute_result"
    }
   ],
   "source": [
    "# Năm dòng đầu của dữ liệu BRFSS\n",
    "brfss_df.head()"
   ]
  },
  {
   "cell_type": "code",
   "execution_count": 17,
   "id": "5c391525-9dd2-48ed-9e80-f262c639d1c3",
   "metadata": {},
   "outputs": [
    {
     "data": {
      "text/html": [
       "<div>\n",
       "<style scoped>\n",
       "    .dataframe tbody tr th:only-of-type {\n",
       "        vertical-align: middle;\n",
       "    }\n",
       "\n",
       "    .dataframe tbody tr th {\n",
       "        vertical-align: top;\n",
       "    }\n",
       "\n",
       "    .dataframe thead th {\n",
       "        text-align: right;\n",
       "    }\n",
       "</style>\n",
       "<table border=\"1\" class=\"dataframe\">\n",
       "  <thead>\n",
       "    <tr style=\"text-align: right;\">\n",
       "      <th></th>\n",
       "      <th>_STATE</th>\n",
       "      <th>FMONTH</th>\n",
       "      <th>IDATE</th>\n",
       "      <th>IMONTH</th>\n",
       "      <th>IDAY</th>\n",
       "      <th>IYEAR</th>\n",
       "      <th>DISPCODE</th>\n",
       "      <th>SEQNO</th>\n",
       "      <th>_PSU</th>\n",
       "      <th>CTELENM1</th>\n",
       "      <th>...</th>\n",
       "      <th>DROCDY4_</th>\n",
       "      <th>_RFBING6</th>\n",
       "      <th>_DRNKWK2</th>\n",
       "      <th>_RFDRHV8</th>\n",
       "      <th>_FLSHOT7</th>\n",
       "      <th>_PNEUMO3</th>\n",
       "      <th>_AIDTST4</th>\n",
       "      <th>_RFSEAT2</th>\n",
       "      <th>_RFSEAT3</th>\n",
       "      <th>_DRNKDRV</th>\n",
       "    </tr>\n",
       "  </thead>\n",
       "  <tbody>\n",
       "    <tr>\n",
       "      <th>433318</th>\n",
       "      <td>78.0</td>\n",
       "      <td>12.0</td>\n",
       "      <td>b'12112023'</td>\n",
       "      <td>b'12'</td>\n",
       "      <td>b'11'</td>\n",
       "      <td>b'2023'</td>\n",
       "      <td>1100.0</td>\n",
       "      <td>b'2023002064'</td>\n",
       "      <td>2.023002e+09</td>\n",
       "      <td>NaN</td>\n",
       "      <td>...</td>\n",
       "      <td>7.100000e+01</td>\n",
       "      <td>2.0</td>\n",
       "      <td>1.500000e+03</td>\n",
       "      <td>2.0</td>\n",
       "      <td>2.0</td>\n",
       "      <td>2.0</td>\n",
       "      <td>1.0</td>\n",
       "      <td>1.0</td>\n",
       "      <td>2.0</td>\n",
       "      <td>2.0</td>\n",
       "    </tr>\n",
       "    <tr>\n",
       "      <th>433319</th>\n",
       "      <td>78.0</td>\n",
       "      <td>12.0</td>\n",
       "      <td>b'01032024'</td>\n",
       "      <td>b'01'</td>\n",
       "      <td>b'03'</td>\n",
       "      <td>b'2024'</td>\n",
       "      <td>1100.0</td>\n",
       "      <td>b'2023002065'</td>\n",
       "      <td>2.023002e+09</td>\n",
       "      <td>NaN</td>\n",
       "      <td>...</td>\n",
       "      <td>5.397605e-79</td>\n",
       "      <td>1.0</td>\n",
       "      <td>5.397605e-79</td>\n",
       "      <td>1.0</td>\n",
       "      <td>NaN</td>\n",
       "      <td>NaN</td>\n",
       "      <td>1.0</td>\n",
       "      <td>1.0</td>\n",
       "      <td>1.0</td>\n",
       "      <td>9.0</td>\n",
       "    </tr>\n",
       "    <tr>\n",
       "      <th>433320</th>\n",
       "      <td>78.0</td>\n",
       "      <td>12.0</td>\n",
       "      <td>b'12132023'</td>\n",
       "      <td>b'12'</td>\n",
       "      <td>b'13'</td>\n",
       "      <td>b'2023'</td>\n",
       "      <td>1100.0</td>\n",
       "      <td>b'2023002066'</td>\n",
       "      <td>2.023002e+09</td>\n",
       "      <td>NaN</td>\n",
       "      <td>...</td>\n",
       "      <td>3.000000e+00</td>\n",
       "      <td>1.0</td>\n",
       "      <td>4.700000e+01</td>\n",
       "      <td>1.0</td>\n",
       "      <td>NaN</td>\n",
       "      <td>NaN</td>\n",
       "      <td>1.0</td>\n",
       "      <td>1.0</td>\n",
       "      <td>1.0</td>\n",
       "      <td>2.0</td>\n",
       "    </tr>\n",
       "    <tr>\n",
       "      <th>433321</th>\n",
       "      <td>78.0</td>\n",
       "      <td>12.0</td>\n",
       "      <td>b'12082023'</td>\n",
       "      <td>b'12'</td>\n",
       "      <td>b'08'</td>\n",
       "      <td>b'2023'</td>\n",
       "      <td>1100.0</td>\n",
       "      <td>b'2023002067'</td>\n",
       "      <td>2.023002e+09</td>\n",
       "      <td>NaN</td>\n",
       "      <td>...</td>\n",
       "      <td>5.397605e-79</td>\n",
       "      <td>1.0</td>\n",
       "      <td>5.397605e-79</td>\n",
       "      <td>1.0</td>\n",
       "      <td>2.0</td>\n",
       "      <td>2.0</td>\n",
       "      <td>2.0</td>\n",
       "      <td>1.0</td>\n",
       "      <td>1.0</td>\n",
       "      <td>9.0</td>\n",
       "    </tr>\n",
       "    <tr>\n",
       "      <th>433322</th>\n",
       "      <td>78.0</td>\n",
       "      <td>12.0</td>\n",
       "      <td>b'12112023'</td>\n",
       "      <td>b'12'</td>\n",
       "      <td>b'11'</td>\n",
       "      <td>b'2023'</td>\n",
       "      <td>1100.0</td>\n",
       "      <td>b'2023002068'</td>\n",
       "      <td>2.023002e+09</td>\n",
       "      <td>NaN</td>\n",
       "      <td>...</td>\n",
       "      <td>6.700000e+01</td>\n",
       "      <td>2.0</td>\n",
       "      <td>9.330000e+02</td>\n",
       "      <td>1.0</td>\n",
       "      <td>NaN</td>\n",
       "      <td>NaN</td>\n",
       "      <td>2.0</td>\n",
       "      <td>1.0</td>\n",
       "      <td>2.0</td>\n",
       "      <td>2.0</td>\n",
       "    </tr>\n",
       "  </tbody>\n",
       "</table>\n",
       "<p>5 rows × 350 columns</p>\n",
       "</div>"
      ],
      "text/plain": [
       "        _STATE  FMONTH        IDATE IMONTH   IDAY    IYEAR  DISPCODE  \\\n",
       "433318    78.0    12.0  b'12112023'  b'12'  b'11'  b'2023'    1100.0   \n",
       "433319    78.0    12.0  b'01032024'  b'01'  b'03'  b'2024'    1100.0   \n",
       "433320    78.0    12.0  b'12132023'  b'12'  b'13'  b'2023'    1100.0   \n",
       "433321    78.0    12.0  b'12082023'  b'12'  b'08'  b'2023'    1100.0   \n",
       "433322    78.0    12.0  b'12112023'  b'12'  b'11'  b'2023'    1100.0   \n",
       "\n",
       "                SEQNO          _PSU  CTELENM1  ...      DROCDY4_  _RFBING6  \\\n",
       "433318  b'2023002064'  2.023002e+09       NaN  ...  7.100000e+01       2.0   \n",
       "433319  b'2023002065'  2.023002e+09       NaN  ...  5.397605e-79       1.0   \n",
       "433320  b'2023002066'  2.023002e+09       NaN  ...  3.000000e+00       1.0   \n",
       "433321  b'2023002067'  2.023002e+09       NaN  ...  5.397605e-79       1.0   \n",
       "433322  b'2023002068'  2.023002e+09       NaN  ...  6.700000e+01       2.0   \n",
       "\n",
       "            _DRNKWK2  _RFDRHV8  _FLSHOT7  _PNEUMO3  _AIDTST4  _RFSEAT2  \\\n",
       "433318  1.500000e+03       2.0       2.0       2.0       1.0       1.0   \n",
       "433319  5.397605e-79       1.0       NaN       NaN       1.0       1.0   \n",
       "433320  4.700000e+01       1.0       NaN       NaN       1.0       1.0   \n",
       "433321  5.397605e-79       1.0       2.0       2.0       2.0       1.0   \n",
       "433322  9.330000e+02       1.0       NaN       NaN       2.0       1.0   \n",
       "\n",
       "        _RFSEAT3  _DRNKDRV  \n",
       "433318       2.0       2.0  \n",
       "433319       1.0       9.0  \n",
       "433320       1.0       2.0  \n",
       "433321       1.0       9.0  \n",
       "433322       2.0       2.0  \n",
       "\n",
       "[5 rows x 350 columns]"
      ]
     },
     "execution_count": 17,
     "metadata": {},
     "output_type": "execute_result"
    }
   ],
   "source": [
    "# Năm dòng cuối của dữ liệu BRFSS\n",
    "brfss_df.tail()"
   ]
  },
  {
   "cell_type": "code",
   "execution_count": 18,
   "id": "e75292c0-d922-4d3e-aadd-15b87ca4c8fd",
   "metadata": {},
   "outputs": [
    {
     "data": {
      "text/plain": [
       "(433323, 350)"
      ]
     },
     "execution_count": 18,
     "metadata": {},
     "output_type": "execute_result"
    }
   ],
   "source": [
    "# Số lượng dòng và cột\n",
    "brfss_df.shape"
   ]
  },
  {
   "cell_type": "code",
   "execution_count": 19,
   "id": "e62e4a46-2100-478c-baa1-77728f60066f",
   "metadata": {},
   "outputs": [
    {
     "name": "stdout",
     "output_type": "stream",
     "text": [
      "<class 'pandas.core.frame.DataFrame'>\n",
      "RangeIndex: 433323 entries, 0 to 433322\n",
      "Columns: 350 entries, _STATE to _DRNKDRV\n",
      "dtypes: float64(345), object(5)\n",
      "memory usage: 1.1+ GB\n"
     ]
    }
   ],
   "source": [
    "# Thống kê tổng quan\n",
    "brfss_df.info()"
   ]
  },
  {
   "cell_type": "markdown",
   "id": "a74b2c32-74f7-4311-8a3a-b4ba2552767c",
   "metadata": {},
   "source": [
    "Vậy là chúng ta đã đọc được bộ dữ liệu BRFSS của năm 2023. Nhìn sơ qua, chúng ta sẽ thấy bộ dữ liệu này có **433323** dòng và **350** cột dữ liệu, bộ dữ liệu này nặng khoảng **1.1+ GB**, có vẻ khá nặng vì đây là bộ dữ liệu khảo sát về toàn bộ thông tin bệnh nhân của nhiều khu vực trong nước Mỹ. Tuy nhiên, mục tiêu của chúng ta không phải là toàn bộ dữ liệu này, mà chỉ là một phần về những thông tin của bệnh tiểu đường tương tự như bộ **Diabetes_012_health_indicators_BRFSS2021** mà thôi. Vậy chúng ta sẽ bắt đầu tiến đến bước trích dữ liệu cần thiết từ bộ dữ liệu lớn này."
   ]
  },
  {
   "cell_type": "markdown",
   "id": "ae495a14-ceee-4bf7-8925-442b3fcb9c80",
   "metadata": {},
   "source": [
    "## **3. Tách dữ liệu bệnh tiểu đường**\n",
    "\n",
    "Để có được những cột dữ liệu tương tự như bộ **Diabetes_012_health_indicators_2021**, chúng ta sẽ cần tìm được các feature tương ứng trên bộ dữ liệu năm 2021 với bộ dữ liệu năm 2023. Dựa theo thông tin từ bộ dữ liệu **Diabetes_012_health_indicators_2021** từ trang [Kaggle](https://www.kaggle.com/datasets/julnazz/diabetes-health-indicators-dataset), chúng ta sẽ đọc phần mô tả bộ dữ liệu này và sẽ thấy được 2 đường dẫn là:\n",
    "\n",
    "- Đường dẫn notebook hướng dẫn trích xuất dữ liệu BRFSS năm 2021 và lấy được thông tin bộ dữ liệu **Diabetes_012_health_indicators_2021**\n",
    ">> Remote source: [https://www.kaggle.com/code/julnazz/diabetes-prediction-data-preprocessing/notebook](https://www.kaggle.com/code/julnazz/diabetes-prediction-data-preprocessing/notebook)\n",
    "- Dữ liệu gốc **BRFSS** của năm **2021** để lấy được dữ liệu này\n",
    "\n",
    "Dựa vào mô tả của notebook hướng dẫn, ta có thể tìm được những feature của bộ **Diabetes_012_health_indicators_2021** tương ứng với bộ **BRFSS 2021** và bộ **BRFSS 2023** như sau:\n",
    "\n",
    "| Diabetes              | BRFSS 2021    | BRFSS 2023           |\n",
    "|:--------              |:-------       | :-------             |\n",
    "| Diabetes_012          | DIABETE4      | DIABETE4             |\n",
    "| HighBP                | _RFHYPE6      | _RFHYPE6             |\n",
    "| HighChol              | TOLDHI3       | TOLDHI3              |\n",
    "| CholCheck             | _CHOLCH3      | _CHOLCH3             |\n",
    "| BMI                   | _BMI5         | _BMI5                |\n",
    "| Smoker                | SMOKE100      | SMOKE100             |\n",
    "| Stroke                | CVDSTRK3      | CVDSTRK3             |\n",
    "| HeartDiseaseorAttack  | _MICHD        | _MICHD               |\n",
    "| PhysActivity          | _TOTINDA      | _TOTINDA             |\n",
    "| Fruits                | _FRTLT1A      | **Missing**          |\n",
    "| Veggies               | _VEGLT1A      | **Missing**          |\n",
    "| HvyAlcoholConsump     | _RFDRHV7      | _RFDRHV8             |\n",
    "| AnyHealthcare         | _HLTHPLN      | PRIMINS1 (Thay thế)  |\n",
    "| NoDocbcCost           | MEDCOST1      | MEDCOST1             |\n",
    "| GenHlth               | GENHLTH       | GENHLTH              |\n",
    "| MentHlth              | MENTHLTH      | MENTHLTH             |\n",
    "| PhysHlth              | PHYSHLTH      | PHYSHLTH             |\n",
    "| DiffWalk              | DIFFWALK      | DIFFWALK             |\n",
    "| Sex                   | _SEX          | _SEX                 |\n",
    "| Age                   | _AGEG5YR      | _AGEG5YR             |\n",
    "| Education             | EDUCA         | EDUCA                |\n",
    "| Income                | INCOME3       | INCOME3              |\n",
    "\n",
    "Theo số liệu thống kê thì dữ liệu bị thiếu đi 2 cột `Fruits` và `Veggies`, nhưng trong dữ liệu huấn luyện của bộ 2021 chúng ta có vẻ như không cần dùng đến 2 cột này, vì ở bước **feature selection** thì 2 cột này và những cột dữ liệu liên quan đã bị loại bỏ vì **độ tương quan** của chúng quá thấp với label cần dự đoán. Dựa vào những feature trong dữ liệu huấn luyện mô hình, chúng ta sẽ cần những cột sau dây `HeartDiseaseorAttack`, `HlthScore` (`GenHlth`, `MentHlth`, `PhysHlth`), `PhysHlth`, `RiskScore` (`HighBP`, `HighChol`, `HeartDiseaseorAttack`, `Stroke`), `BMI`, `Age`, `GenHlth`, `DiffWalk`, `HighChol`, `Income`, `PhysActivity`, `HighBP`, `CardioRisk` (`HighBP`, `HighChol`, `BMI`), `Diabetes_012`\n",
    "\n",
    "Từ đó ta chỉ cần lấy những đặc trưng sau `Diabetes_012`, `HeartDiseaseorAttack`, `GenHlth`, `MentHlth`, `PhysHlth`, `BMI`, `Age`, `DiffWalk`, `HighChol`, `Income`, `PhysActivity`, `HighBP`, `Stroke`."
   ]
  },
  {
   "cell_type": "markdown",
   "id": "0a8134ca-decd-4e15-8ab3-6af52da746a9",
   "metadata": {},
   "source": [
    "### **3.1 Tách dữ liệu**"
   ]
  },
  {
   "cell_type": "code",
   "execution_count": 381,
   "id": "1a4bf143-0ac0-4eb6-b330-0f467eff540a",
   "metadata": {},
   "outputs": [],
   "source": [
    "# Các cột dữ liệu cho dữ liệu tiểu đường\n",
    "diabetes_columns = ['Diabetes_012', 'HighBP', 'HighChol', 'BMI', 'Stroke', 'HeartDiseaseorAttack', \n",
    "                    'PhysActivity', 'GenHlth', 'MentHlth', 'PhysHlth', 'DiffWalk', 'Age', 'Income']\n",
    "# Các cột dữ liệu tương ứng trên BRFSS\n",
    "brfss_columns = ['DIABETE4', '_RFHYPE6', 'TOLDHI3', '_BMI5', 'CVDSTRK3', '_MICHD', '_TOTINDA',\n",
    "                 'GENHLTH', 'MENTHLTH', 'PHYSHLTH', 'DIFFWALK', '_AGEG5YR', 'INCOME3']\n",
    "# Trích dữ liệu và xóa các dòng null\n",
    "diabetes_df_2023 = brfss_df[brfss_columns].dropna()\n",
    "diabetes_df_2023.columns = diabetes_columns"
   ]
  },
  {
   "cell_type": "code",
   "execution_count": 382,
   "id": "7b8f4eda-b8b5-4680-9d48-1004779e53d2",
   "metadata": {},
   "outputs": [
    {
     "data": {
      "text/html": [
       "<div>\n",
       "<style scoped>\n",
       "    .dataframe tbody tr th:only-of-type {\n",
       "        vertical-align: middle;\n",
       "    }\n",
       "\n",
       "    .dataframe tbody tr th {\n",
       "        vertical-align: top;\n",
       "    }\n",
       "\n",
       "    .dataframe thead th {\n",
       "        text-align: right;\n",
       "    }\n",
       "</style>\n",
       "<table border=\"1\" class=\"dataframe\">\n",
       "  <thead>\n",
       "    <tr style=\"text-align: right;\">\n",
       "      <th></th>\n",
       "      <th>Diabetes_012</th>\n",
       "      <th>HighBP</th>\n",
       "      <th>HighChol</th>\n",
       "      <th>BMI</th>\n",
       "      <th>Stroke</th>\n",
       "      <th>HeartDiseaseorAttack</th>\n",
       "      <th>PhysActivity</th>\n",
       "      <th>GenHlth</th>\n",
       "      <th>MentHlth</th>\n",
       "      <th>PhysHlth</th>\n",
       "      <th>DiffWalk</th>\n",
       "      <th>Age</th>\n",
       "      <th>Income</th>\n",
       "    </tr>\n",
       "  </thead>\n",
       "  <tbody>\n",
       "    <tr>\n",
       "      <th>0</th>\n",
       "      <td>1.0</td>\n",
       "      <td>2.0</td>\n",
       "      <td>2.0</td>\n",
       "      <td>3047.0</td>\n",
       "      <td>2.0</td>\n",
       "      <td>2.0</td>\n",
       "      <td>2.0</td>\n",
       "      <td>2.0</td>\n",
       "      <td>88.0</td>\n",
       "      <td>88.0</td>\n",
       "      <td>1.0</td>\n",
       "      <td>13.0</td>\n",
       "      <td>99.0</td>\n",
       "    </tr>\n",
       "    <tr>\n",
       "      <th>1</th>\n",
       "      <td>3.0</td>\n",
       "      <td>2.0</td>\n",
       "      <td>1.0</td>\n",
       "      <td>2856.0</td>\n",
       "      <td>2.0</td>\n",
       "      <td>2.0</td>\n",
       "      <td>1.0</td>\n",
       "      <td>2.0</td>\n",
       "      <td>88.0</td>\n",
       "      <td>88.0</td>\n",
       "      <td>2.0</td>\n",
       "      <td>13.0</td>\n",
       "      <td>99.0</td>\n",
       "    </tr>\n",
       "    <tr>\n",
       "      <th>2</th>\n",
       "      <td>3.0</td>\n",
       "      <td>2.0</td>\n",
       "      <td>1.0</td>\n",
       "      <td>2231.0</td>\n",
       "      <td>2.0</td>\n",
       "      <td>2.0</td>\n",
       "      <td>1.0</td>\n",
       "      <td>4.0</td>\n",
       "      <td>2.0</td>\n",
       "      <td>6.0</td>\n",
       "      <td>1.0</td>\n",
       "      <td>13.0</td>\n",
       "      <td>2.0</td>\n",
       "    </tr>\n",
       "    <tr>\n",
       "      <th>3</th>\n",
       "      <td>3.0</td>\n",
       "      <td>1.0</td>\n",
       "      <td>2.0</td>\n",
       "      <td>2744.0</td>\n",
       "      <td>2.0</td>\n",
       "      <td>2.0</td>\n",
       "      <td>1.0</td>\n",
       "      <td>2.0</td>\n",
       "      <td>88.0</td>\n",
       "      <td>2.0</td>\n",
       "      <td>1.0</td>\n",
       "      <td>12.0</td>\n",
       "      <td>99.0</td>\n",
       "    </tr>\n",
       "    <tr>\n",
       "      <th>4</th>\n",
       "      <td>1.0</td>\n",
       "      <td>2.0</td>\n",
       "      <td>2.0</td>\n",
       "      <td>2585.0</td>\n",
       "      <td>2.0</td>\n",
       "      <td>2.0</td>\n",
       "      <td>1.0</td>\n",
       "      <td>4.0</td>\n",
       "      <td>88.0</td>\n",
       "      <td>88.0</td>\n",
       "      <td>1.0</td>\n",
       "      <td>12.0</td>\n",
       "      <td>7.0</td>\n",
       "    </tr>\n",
       "  </tbody>\n",
       "</table>\n",
       "</div>"
      ],
      "text/plain": [
       "   Diabetes_012  HighBP  HighChol     BMI  Stroke  HeartDiseaseorAttack  \\\n",
       "0           1.0     2.0       2.0  3047.0     2.0                   2.0   \n",
       "1           3.0     2.0       1.0  2856.0     2.0                   2.0   \n",
       "2           3.0     2.0       1.0  2231.0     2.0                   2.0   \n",
       "3           3.0     1.0       2.0  2744.0     2.0                   2.0   \n",
       "4           1.0     2.0       2.0  2585.0     2.0                   2.0   \n",
       "\n",
       "   PhysActivity  GenHlth  MentHlth  PhysHlth  DiffWalk   Age  Income  \n",
       "0           2.0      2.0      88.0      88.0       1.0  13.0    99.0  \n",
       "1           1.0      2.0      88.0      88.0       2.0  13.0    99.0  \n",
       "2           1.0      4.0       2.0       6.0       1.0  13.0     2.0  \n",
       "3           1.0      2.0      88.0       2.0       1.0  12.0    99.0  \n",
       "4           1.0      4.0      88.0      88.0       1.0  12.0     7.0  "
      ]
     },
     "execution_count": 382,
     "metadata": {},
     "output_type": "execute_result"
    }
   ],
   "source": [
    "# Năm dòng dữ liệu đầu\n",
    "diabetes_df_2023.head()"
   ]
  },
  {
   "cell_type": "code",
   "execution_count": 383,
   "id": "709f644e-8471-46b4-8ad0-91f613f167cc",
   "metadata": {},
   "outputs": [
    {
     "name": "stdout",
     "output_type": "stream",
     "text": [
      "<class 'pandas.core.frame.DataFrame'>\n",
      "Index: 341406 entries, 0 to 433321\n",
      "Data columns (total 13 columns):\n",
      " #   Column                Non-Null Count   Dtype  \n",
      "---  ------                --------------   -----  \n",
      " 0   Diabetes_012          341406 non-null  float64\n",
      " 1   HighBP                341406 non-null  float64\n",
      " 2   HighChol              341406 non-null  float64\n",
      " 3   BMI                   341406 non-null  float64\n",
      " 4   Stroke                341406 non-null  float64\n",
      " 5   HeartDiseaseorAttack  341406 non-null  float64\n",
      " 6   PhysActivity          341406 non-null  float64\n",
      " 7   GenHlth               341406 non-null  float64\n",
      " 8   MentHlth              341406 non-null  float64\n",
      " 9   PhysHlth              341406 non-null  float64\n",
      " 10  DiffWalk              341406 non-null  float64\n",
      " 11  Age                   341406 non-null  float64\n",
      " 12  Income                341406 non-null  float64\n",
      "dtypes: float64(13)\n",
      "memory usage: 36.5 MB\n"
     ]
    }
   ],
   "source": [
    "diabetes_df_2023.info()"
   ]
  },
  {
   "cell_type": "code",
   "execution_count": 384,
   "id": "fef1e602-b526-48eb-ad2e-607b32c9ee3a",
   "metadata": {},
   "outputs": [
    {
     "data": {
      "text/html": [
       "<div>\n",
       "<style scoped>\n",
       "    .dataframe tbody tr th:only-of-type {\n",
       "        vertical-align: middle;\n",
       "    }\n",
       "\n",
       "    .dataframe tbody tr th {\n",
       "        vertical-align: top;\n",
       "    }\n",
       "\n",
       "    .dataframe thead th {\n",
       "        text-align: right;\n",
       "    }\n",
       "</style>\n",
       "<table border=\"1\" class=\"dataframe\">\n",
       "  <thead>\n",
       "    <tr style=\"text-align: right;\">\n",
       "      <th></th>\n",
       "      <th>count</th>\n",
       "      <th>mean</th>\n",
       "      <th>std</th>\n",
       "      <th>min</th>\n",
       "      <th>25%</th>\n",
       "      <th>50%</th>\n",
       "      <th>75%</th>\n",
       "      <th>max</th>\n",
       "    </tr>\n",
       "  </thead>\n",
       "  <tbody>\n",
       "    <tr>\n",
       "      <th>Diabetes_012</th>\n",
       "      <td>341406.0</td>\n",
       "      <td>2.725289</td>\n",
       "      <td>0.761424</td>\n",
       "      <td>1.0</td>\n",
       "      <td>3.0</td>\n",
       "      <td>3.0</td>\n",
       "      <td>3.0</td>\n",
       "      <td>9.0</td>\n",
       "    </tr>\n",
       "    <tr>\n",
       "      <th>HighBP</th>\n",
       "      <td>341406.0</td>\n",
       "      <td>1.457599</td>\n",
       "      <td>0.630841</td>\n",
       "      <td>1.0</td>\n",
       "      <td>1.0</td>\n",
       "      <td>1.0</td>\n",
       "      <td>2.0</td>\n",
       "      <td>9.0</td>\n",
       "    </tr>\n",
       "    <tr>\n",
       "      <th>HighChol</th>\n",
       "      <td>341406.0</td>\n",
       "      <td>1.618068</td>\n",
       "      <td>0.692346</td>\n",
       "      <td>1.0</td>\n",
       "      <td>1.0</td>\n",
       "      <td>2.0</td>\n",
       "      <td>2.0</td>\n",
       "      <td>9.0</td>\n",
       "    </tr>\n",
       "    <tr>\n",
       "      <th>BMI</th>\n",
       "      <td>341406.0</td>\n",
       "      <td>2866.661163</td>\n",
       "      <td>650.942219</td>\n",
       "      <td>1202.0</td>\n",
       "      <td>2433.0</td>\n",
       "      <td>2746.0</td>\n",
       "      <td>3184.0</td>\n",
       "      <td>9982.0</td>\n",
       "    </tr>\n",
       "    <tr>\n",
       "      <th>Stroke</th>\n",
       "      <td>341406.0</td>\n",
       "      <td>1.966409</td>\n",
       "      <td>0.320077</td>\n",
       "      <td>1.0</td>\n",
       "      <td>2.0</td>\n",
       "      <td>2.0</td>\n",
       "      <td>2.0</td>\n",
       "      <td>9.0</td>\n",
       "    </tr>\n",
       "    <tr>\n",
       "      <th>HeartDiseaseorAttack</th>\n",
       "      <td>341406.0</td>\n",
       "      <td>1.906572</td>\n",
       "      <td>0.291032</td>\n",
       "      <td>1.0</td>\n",
       "      <td>2.0</td>\n",
       "      <td>2.0</td>\n",
       "      <td>2.0</td>\n",
       "      <td>2.0</td>\n",
       "    </tr>\n",
       "    <tr>\n",
       "      <th>PhysActivity</th>\n",
       "      <td>341406.0</td>\n",
       "      <td>1.252424</td>\n",
       "      <td>0.556265</td>\n",
       "      <td>1.0</td>\n",
       "      <td>1.0</td>\n",
       "      <td>1.0</td>\n",
       "      <td>1.0</td>\n",
       "      <td>9.0</td>\n",
       "    </tr>\n",
       "    <tr>\n",
       "      <th>GenHlth</th>\n",
       "      <td>341406.0</td>\n",
       "      <td>2.620628</td>\n",
       "      <td>1.066069</td>\n",
       "      <td>1.0</td>\n",
       "      <td>2.0</td>\n",
       "      <td>3.0</td>\n",
       "      <td>3.0</td>\n",
       "      <td>9.0</td>\n",
       "    </tr>\n",
       "    <tr>\n",
       "      <th>MentHlth</th>\n",
       "      <td>341406.0</td>\n",
       "      <td>58.505829</td>\n",
       "      <td>37.977060</td>\n",
       "      <td>1.0</td>\n",
       "      <td>10.0</td>\n",
       "      <td>88.0</td>\n",
       "      <td>88.0</td>\n",
       "      <td>99.0</td>\n",
       "    </tr>\n",
       "    <tr>\n",
       "      <th>PhysHlth</th>\n",
       "      <td>341406.0</td>\n",
       "      <td>58.110830</td>\n",
       "      <td>37.847037</td>\n",
       "      <td>1.0</td>\n",
       "      <td>12.0</td>\n",
       "      <td>88.0</td>\n",
       "      <td>88.0</td>\n",
       "      <td>99.0</td>\n",
       "    </tr>\n",
       "    <tr>\n",
       "      <th>DiffWalk</th>\n",
       "      <td>341406.0</td>\n",
       "      <td>1.852486</td>\n",
       "      <td>0.481624</td>\n",
       "      <td>1.0</td>\n",
       "      <td>2.0</td>\n",
       "      <td>2.0</td>\n",
       "      <td>2.0</td>\n",
       "      <td>9.0</td>\n",
       "    </tr>\n",
       "    <tr>\n",
       "      <th>Age</th>\n",
       "      <td>341406.0</td>\n",
       "      <td>8.211818</td>\n",
       "      <td>3.439588</td>\n",
       "      <td>1.0</td>\n",
       "      <td>6.0</td>\n",
       "      <td>9.0</td>\n",
       "      <td>11.0</td>\n",
       "      <td>14.0</td>\n",
       "    </tr>\n",
       "    <tr>\n",
       "      <th>Income</th>\n",
       "      <td>341406.0</td>\n",
       "      <td>19.501262</td>\n",
       "      <td>29.773543</td>\n",
       "      <td>1.0</td>\n",
       "      <td>6.0</td>\n",
       "      <td>8.0</td>\n",
       "      <td>10.0</td>\n",
       "      <td>99.0</td>\n",
       "    </tr>\n",
       "  </tbody>\n",
       "</table>\n",
       "</div>"
      ],
      "text/plain": [
       "                         count         mean         std     min     25%  \\\n",
       "Diabetes_012          341406.0     2.725289    0.761424     1.0     3.0   \n",
       "HighBP                341406.0     1.457599    0.630841     1.0     1.0   \n",
       "HighChol              341406.0     1.618068    0.692346     1.0     1.0   \n",
       "BMI                   341406.0  2866.661163  650.942219  1202.0  2433.0   \n",
       "Stroke                341406.0     1.966409    0.320077     1.0     2.0   \n",
       "HeartDiseaseorAttack  341406.0     1.906572    0.291032     1.0     2.0   \n",
       "PhysActivity          341406.0     1.252424    0.556265     1.0     1.0   \n",
       "GenHlth               341406.0     2.620628    1.066069     1.0     2.0   \n",
       "MentHlth              341406.0    58.505829   37.977060     1.0    10.0   \n",
       "PhysHlth              341406.0    58.110830   37.847037     1.0    12.0   \n",
       "DiffWalk              341406.0     1.852486    0.481624     1.0     2.0   \n",
       "Age                   341406.0     8.211818    3.439588     1.0     6.0   \n",
       "Income                341406.0    19.501262   29.773543     1.0     6.0   \n",
       "\n",
       "                         50%     75%     max  \n",
       "Diabetes_012             3.0     3.0     9.0  \n",
       "HighBP                   1.0     2.0     9.0  \n",
       "HighChol                 2.0     2.0     9.0  \n",
       "BMI                   2746.0  3184.0  9982.0  \n",
       "Stroke                   2.0     2.0     9.0  \n",
       "HeartDiseaseorAttack     2.0     2.0     2.0  \n",
       "PhysActivity             1.0     1.0     9.0  \n",
       "GenHlth                  3.0     3.0     9.0  \n",
       "MentHlth                88.0    88.0    99.0  \n",
       "PhysHlth                88.0    88.0    99.0  \n",
       "DiffWalk                 2.0     2.0     9.0  \n",
       "Age                      9.0    11.0    14.0  \n",
       "Income                   8.0    10.0    99.0  "
      ]
     },
     "execution_count": 384,
     "metadata": {},
     "output_type": "execute_result"
    }
   ],
   "source": [
    "diabetes_df_2023.describe().T"
   ]
  },
  {
   "cell_type": "markdown",
   "id": "cbd9f73f-c8b7-43b3-a6e9-2d4d06c8ae46",
   "metadata": {},
   "source": [
    "### **3.2 Xử lý dữ liệu**\n",
    "\n",
    "Tuy đã tách được dữ liệu nhưng chúng ta cần phải chuyển về  cho đúng dạng của dữ liệu **Diabetes_012_health_indicators_BRFSS2021**. Để thực hiện được điều này, chúng ta sẽ dựa vào codebook của năm 2023 để chuyển về đúng format của bộ dữ liệu."
   ]
  },
  {
   "cell_type": "markdown",
   "id": "6460530e-be59-4879-97e0-fb18b5f6cd00",
   "metadata": {},
   "source": [
    "#### **3.2.1 Label Diabetes**\n",
    "\n",
    "<div style=\"display: flex; justify-content: center\">\n",
    "    <img\n",
    "        src=\"./images/diabetes_codebook.png\"\n",
    "        style=\"width: 800px;\"\n",
    "    />\n",
    "</div>\n",
    "\n",
    "Dựa vào codebook, ta có thể thấy được `1.0` sẽ là `Yes`, `2.0` và `3.0` được coi là `No` - `2.0` được coi là `No` vì khi phụ nữ mang thai, nhau thai thường tạo ra một số loại hormone kháng lại insulin. dẫn đến rối loạn chuyển hóa đường khiến cho lượng đường có xu hướng tích tụ trong máu nhiều hơn bình thường, đây là một trường hợp đặc biệt nên có thể **không được** xem xét là `Yes` trong tình huống này, và `4.0` sẽ là `Pre-diabetes`. Đối với `7.0` và `9.0` thì không cần thiết nên sẽ loại bỏ."
   ]
  },
  {
   "cell_type": "code",
   "execution_count": 387,
   "id": "0716f037-9f9b-483a-9283-4d929084f928",
   "metadata": {},
   "outputs": [
    {
     "data": {
      "text/plain": [
       "array([2., 0., 1.])"
      ]
     },
     "execution_count": 387,
     "metadata": {},
     "output_type": "execute_result"
    }
   ],
   "source": [
    "diabetes_df_2023['Diabetes_012'] = diabetes_df_2023['Diabetes_012'].replace({2:0, 3:0, 1:2, 4:1})\n",
    "diabetes_df_2023 = diabetes_df_2023[diabetes_df_2023['Diabetes_012'] != 7]\n",
    "diabetes_df_2023 = diabetes_df_2023[diabetes_df_2023['Diabetes_012'] != 9]\n",
    "diabetes_df_2023['Diabetes_012'].unique()"
   ]
  },
  {
   "attachments": {},
   "cell_type": "markdown",
   "id": "6ea5e1fb-5fd7-4950-b303-994e85c9917b",
   "metadata": {},
   "source": [
    "#### **3.2.2 Huyết áp cao (High Blood Pressure)**\n",
    "\n",
    "<div style=\"display: flex; justify-content: center\">\n",
    "    <img\n",
    "        src=\"./images/high_blood_pressure_codebook.png\"\n",
    "        style=\"width: 800px;\"\n",
    "    />\n",
    "</div>\n",
    "\n",
    "Đối với thuộc tính này thì chúng ta chỉ cần giá trị `1.0` và `2.0`, nhưng chúng ta cần chuyển cho đúng dạng là `1.0` tương đương với `0.0` và `2.0` là `1.0`."
   ]
  },
  {
   "cell_type": "code",
   "execution_count": 389,
   "id": "734b12af-f893-4465-9767-4115da4915aa",
   "metadata": {},
   "outputs": [
    {
     "data": {
      "text/plain": [
       "array([1., 0.])"
      ]
     },
     "execution_count": 389,
     "metadata": {},
     "output_type": "execute_result"
    }
   ],
   "source": [
    "diabetes_df_2023['HighBP'] = diabetes_df_2023['HighBP'].replace({1:0, 2:1})\n",
    "diabetes_df_2023 = diabetes_df_2023[diabetes_df_2023['HighBP'] != 9]\n",
    "diabetes_df_2023['HighBP'].unique()"
   ]
  },
  {
   "cell_type": "markdown",
   "id": "c8f04f64-b7eb-4c6f-ac4a-756818d67c3b",
   "metadata": {},
   "source": [
    "#### **3.2.3 Lượng Cholesterol cao (High cholesterol)**\n",
    "\n",
    "<div style=\"display: flex; justify-content: center\">\n",
    "    <img\n",
    "        src=\"./images/high_cholesterol_codebook.png\"\n",
    "        style=\"width: 800px;\"\n",
    "    />\n",
    "</div>\n",
    "\n",
    "Đối với feature này chúng ta sẽ loại bỏ giá trị `7.0` và `9.0`, và chuyển giá trị `2.0` về `0.0`"
   ]
  },
  {
   "cell_type": "code",
   "execution_count": 391,
   "id": "245c826a-adfa-4701-a9ae-6ac87b612757",
   "metadata": {},
   "outputs": [
    {
     "data": {
      "text/plain": [
       "array([0., 1.])"
      ]
     },
     "execution_count": 391,
     "metadata": {},
     "output_type": "execute_result"
    }
   ],
   "source": [
    "diabetes_df_2023['HighChol'] = diabetes_df_2023['HighChol'].replace({2:0})\n",
    "diabetes_df_2023 = diabetes_df_2023[diabetes_df_2023['HighChol'] != 7]\n",
    "diabetes_df_2023 = diabetes_df_2023[diabetes_df_2023['HighChol'] != 9]\n",
    "diabetes_df_2023['HighChol'].unique()"
   ]
  },
  {
   "cell_type": "markdown",
   "id": "e12af8b1-1f19-4a60-bb5a-e7c5a67e16f7",
   "metadata": {},
   "source": [
    "#### **3.2.4 BMI**\n",
    "\n",
    "<div style=\"display: flex; justify-content: center\">\n",
    "    <img\n",
    "        src=\"./images/bmi_codebook.png\"\n",
    "        style=\"width: 800px;\"\n",
    "    />\n",
    "</div>\n",
    "\n",
    "Trong dữ liệu này, chỉ số `BMI` có 2 chữ số thập phân ngầm định, có nghĩa là:\n",
    "\n",
    "- Nếu trong dữ liệu hiển thị là 2500, thực tế nó là 25.00\n",
    "- Nếu hiển thị là 3012, thực tế là 30.12\n",
    "- Lý do có \"implied decimal places\" là để tiết kiệm không gian lưu trữ trong cơ sở dữ liệu. Thay vì lưu dấu thập phân, người ta di chuyển dấu thập phân sang trái 2 vị trí.\n",
    "\n",
    "Nên để chuyển về định dạng chuẩn, ta sẽ chia cột này cho `100`."
   ]
  },
  {
   "cell_type": "code",
   "execution_count": 393,
   "id": "80b9734d-32bb-47b8-947a-5b300c1bb2cd",
   "metadata": {},
   "outputs": [
    {
     "data": {
      "text/plain": [
       "array([ 30.,  29.,  22.,  27.,  26.,  24.,  33.,  23.,  42.,  28.,  36.,\n",
       "        25.,  38.,  44.,  37.,  31.,  32.,  52.,  34.,  54.,  48.,  20.,\n",
       "        35.,  40.,  19.,  18.,  21.,  46.,  41.,  47.,  39.,  17.,  49.,\n",
       "        43.,  45.,  51.,  50.,  16.,  15.,  56.,  13.,  62.,  77.,  68.,\n",
       "        53.,  59.,  55.,  57.,  67.,  70.,  14.,  63.,  64.,  58.,  66.,\n",
       "        60.,  65.,  72.,  82.,  61.,  76.,  12.,  86.,  83.,  75.,  71.,\n",
       "        73.,  74.,  69.,  84.,  81.,  87., 100.,  78.,  95.,  89.,  80.,\n",
       "        92.,  79.,  97.,  91.,  88.,  90.,  98.,  99.,  94.,  85.])"
      ]
     },
     "execution_count": 393,
     "metadata": {},
     "output_type": "execute_result"
    }
   ],
   "source": [
    "diabetes_df_2023['BMI'] = diabetes_df_2023['BMI'].div(100).round(0)\n",
    "diabetes_df_2023['BMI'].unique()"
   ]
  },
  {
   "cell_type": "markdown",
   "id": "fca5e921-414c-427f-83ae-b01c0ab36b0a",
   "metadata": {},
   "source": [
    "#### **3.2.5 Đã từng đột quỵ (Stroke)**\n",
    "\n",
    "<div style=\"display: flex; justify-content: center\">\n",
    "    <img\n",
    "        src=\"./images/stroke_codebook.png\"\n",
    "        style=\"width: 800px;\"\n",
    "    />\n",
    "</div>\n",
    "\n",
    "Tương tự như những cách trên, chúng ta sẽ thay thế về dạng binary và xóa các giá trị unknown"
   ]
  },
  {
   "cell_type": "code",
   "execution_count": 395,
   "id": "2393b669-aca3-4d8d-8e8c-fc43156c187e",
   "metadata": {},
   "outputs": [
    {
     "data": {
      "text/plain": [
       "array([0., 1.])"
      ]
     },
     "execution_count": 395,
     "metadata": {},
     "output_type": "execute_result"
    }
   ],
   "source": [
    "diabetes_df_2023['Stroke'] = diabetes_df_2023['Stroke'].replace({2:0})\n",
    "diabetes_df_2023 = diabetes_df_2023[diabetes_df_2023['Stroke'] != 7]\n",
    "diabetes_df_2023 = diabetes_df_2023[diabetes_df_2023['Stroke'] != 9]\n",
    "diabetes_df_2023['Stroke'].unique()"
   ]
  },
  {
   "cell_type": "markdown",
   "id": "739f4ab9-c874-41d6-84ad-7101fe5887b7",
   "metadata": {},
   "source": [
    "#### **3.2.6 Đã từng mắc bệnh tim hoặc đau tim (Heart Disease or Attack)**\n",
    "\n",
    "<div style=\"display: flex; justify-content: center\">\n",
    "    <img\n",
    "        src=\"./images/heart_disease_or_attack_codebook.png\"\n",
    "        style=\"width: 800px;\"\n",
    "    />\n",
    "</div>"
   ]
  },
  {
   "cell_type": "code",
   "execution_count": 397,
   "id": "8c358dcc-94a4-438f-98c4-7e1e3d0b19b8",
   "metadata": {},
   "outputs": [
    {
     "data": {
      "text/plain": [
       "array([0., 1.])"
      ]
     },
     "execution_count": 397,
     "metadata": {},
     "output_type": "execute_result"
    }
   ],
   "source": [
    "diabetes_df_2023['HeartDiseaseorAttack'] = diabetes_df_2023['HeartDiseaseorAttack'].replace({2: 0})\n",
    "diabetes_df_2023['HeartDiseaseorAttack'].unique()"
   ]
  },
  {
   "cell_type": "markdown",
   "id": "e49eb675-8bde-4046-8139-7365dc28cf06",
   "metadata": {},
   "source": [
    "#### **3.2.7 Hoạt động thể chất trong 30 ngày qua (Physical Activity)**\n",
    "\n",
    "<div style=\"display: flex; justify-content: center\">\n",
    "    <img\n",
    "        src=\"./images/phys_activity_codebook.png\"\n",
    "        style=\"width: 800px;\"\n",
    "    />\n",
    "</div>"
   ]
  },
  {
   "cell_type": "code",
   "execution_count": 399,
   "id": "5b6cc06a-0ffe-4f8d-8ca6-24d06f073275",
   "metadata": {},
   "outputs": [
    {
     "data": {
      "text/plain": [
       "array([0., 1.])"
      ]
     },
     "execution_count": 399,
     "metadata": {},
     "output_type": "execute_result"
    }
   ],
   "source": [
    "diabetes_df_2023['PhysActivity'] = diabetes_df_2023['PhysActivity'].replace({2:0})\n",
    "diabetes_df_2023 = diabetes_df_2023[diabetes_df_2023['PhysActivity'] != 9]\n",
    "diabetes_df_2023['PhysActivity'].unique()"
   ]
  },
  {
   "cell_type": "markdown",
   "id": "e2038a8b-9dde-4045-a492-6459fa81c5cd",
   "metadata": {},
   "source": [
    "#### **3.2.8 Điểm sức khỏe tổng quát**\n",
    "\n",
    "<div style=\"display: flex; justify-content: center\">\n",
    "    <img\n",
    "        src=\"./images/gent_hlth_codebook.png\"\n",
    "        style=\"width: 800px;\"\n",
    "    />\n",
    "</div>"
   ]
  },
  {
   "cell_type": "code",
   "execution_count": 401,
   "id": "3d96f419-387d-4f87-a619-d2c0970fe728",
   "metadata": {},
   "outputs": [
    {
     "data": {
      "text/plain": [
       "array([2., 4., 3., 1., 5.])"
      ]
     },
     "execution_count": 401,
     "metadata": {},
     "output_type": "execute_result"
    }
   ],
   "source": [
    "diabetes_df_2023 = diabetes_df_2023[diabetes_df_2023['GenHlth'] != 7]\n",
    "diabetes_df_2023 = diabetes_df_2023[diabetes_df_2023['GenHlth'] != 9]\n",
    "diabetes_df_2023['GenHlth'].unique()"
   ]
  },
  {
   "cell_type": "markdown",
   "id": "f33346df-3239-49a6-8c08-ed77c65d00a9",
   "metadata": {},
   "source": [
    "#### **3.2.9 Sức khỏe tinh thần**\n",
    "\n",
    "<div style=\"display: flex; justify-content: center\">\n",
    "    <img\n",
    "        src=\"./images/ment_hlth_codebook.png\"\n",
    "        style=\"width: 800px;\"\n",
    "    />\n",
    "</div>"
   ]
  },
  {
   "cell_type": "code",
   "execution_count": 403,
   "id": "edf476c9-d268-4b89-aff3-6d85fc49814c",
   "metadata": {},
   "outputs": [
    {
     "data": {
      "text/plain": [
       "array([ 0.,  2.,  3., 25., 10., 30., 20., 15.,  5., 12.,  4.,  1.,  6.,\n",
       "       21.,  7., 14., 29.,  8., 16., 17.,  9., 28., 22., 11., 18., 24.,\n",
       "       13., 27., 26., 19., 23.])"
      ]
     },
     "execution_count": 403,
     "metadata": {},
     "output_type": "execute_result"
    }
   ],
   "source": [
    "diabetes_df_2023['MentHlth'] = diabetes_df_2023['MentHlth'].replace({88:0})\n",
    "diabetes_df_2023 = diabetes_df_2023[diabetes_df_2023['MentHlth'] != 77]\n",
    "diabetes_df_2023 = diabetes_df_2023[diabetes_df_2023['MentHlth'] != 99]\n",
    "diabetes_df_2023['MentHlth'].unique()"
   ]
  },
  {
   "cell_type": "markdown",
   "id": "3cd70bed-147f-4c8d-ac64-c6e78e00d7cc",
   "metadata": {},
   "source": [
    "#### **3.2.10 Sức khỏe thể chất**\n",
    "\n",
    "<div style=\"display: flex; justify-content: center\">\n",
    "    <img\n",
    "        src=\"./images/phys_hlth_codebook.png\"\n",
    "        style=\"width: 800px;\"\n",
    "    />\n",
    "</div>"
   ]
  },
  {
   "cell_type": "code",
   "execution_count": 405,
   "id": "6ec9752f-bc01-49f0-b82e-468993c49b3b",
   "metadata": {},
   "outputs": [
    {
     "data": {
      "text/plain": [
       "array([ 0.,  6.,  2.,  1.,  5.,  4., 15., 30., 21., 10., 25., 14.,  7.,\n",
       "       20.,  3., 12., 26.,  8., 24., 18., 13., 28., 16., 17., 11., 27.,\n",
       "       22.,  9., 29., 23., 19.])"
      ]
     },
     "execution_count": 405,
     "metadata": {},
     "output_type": "execute_result"
    }
   ],
   "source": [
    "diabetes_df_2023['PhysHlth'] = diabetes_df_2023['PhysHlth'].replace({88:0})\n",
    "diabetes_df_2023 = diabetes_df_2023[diabetes_df_2023['PhysHlth'] != 77]\n",
    "diabetes_df_2023 = diabetes_df_2023[diabetes_df_2023['PhysHlth'] != 99]\n",
    "diabetes_df_2023['PhysHlth'].unique()"
   ]
  },
  {
   "cell_type": "markdown",
   "id": "b7b7a299-e484-4837-acf3-6de3fb11c04b",
   "metadata": {},
   "source": [
    "#### **3.2.11 Đi bộ khó khăn**\n",
    "\n",
    "<div style=\"display: flex; justify-content: center\">\n",
    "    <img\n",
    "        src=\"./images/diff_walk_codebook.png\"\n",
    "        style=\"width: 800px;\"\n",
    "    />\n",
    "</div>"
   ]
  },
  {
   "cell_type": "code",
   "execution_count": 407,
   "id": "9f473868-ab7d-4396-b34b-357a1ed1a8bf",
   "metadata": {},
   "outputs": [
    {
     "data": {
      "text/plain": [
       "array([1., 0.])"
      ]
     },
     "execution_count": 407,
     "metadata": {},
     "output_type": "execute_result"
    }
   ],
   "source": [
    "diabetes_df_2023['DiffWalk'] = diabetes_df_2023['DiffWalk'].replace({2:0})\n",
    "diabetes_df_2023 = diabetes_df_2023[diabetes_df_2023['DiffWalk'] != 7]\n",
    "diabetes_df_2023 = diabetes_df_2023[diabetes_df_2023['DiffWalk'] != 9]\n",
    "diabetes_df_2023['DiffWalk'].unique()"
   ]
  },
  {
   "cell_type": "markdown",
   "id": "856822bc-ebf1-4e92-98ec-e173c14827e9",
   "metadata": {},
   "source": [
    "#### **3.2.12 Tuổi**\n",
    "\n",
    "<div style=\"display: flex; justify-content: center\">\n",
    "    <img\n",
    "        src=\"./images/age_codebook.png\"\n",
    "        style=\"width: 800px;\"\n",
    "    />\n",
    "</div>"
   ]
  },
  {
   "cell_type": "code",
   "execution_count": 409,
   "id": "b10b5dbf-f993-4884-a3c5-52c3fc13cd73",
   "metadata": {},
   "outputs": [
    {
     "data": {
      "text/plain": [
       "array([13., 12.,  9.,  8., 10., 11.,  6.,  4.,  5.,  7.,  2.,  1.,  3.])"
      ]
     },
     "execution_count": 409,
     "metadata": {},
     "output_type": "execute_result"
    }
   ],
   "source": [
    "diabetes_df_2023 = diabetes_df_2023[diabetes_df_2023['Age'] != 14]\n",
    "diabetes_df_2023['Age'].unique()"
   ]
  },
  {
   "cell_type": "markdown",
   "id": "68e62e7c-d3d4-48c2-bdcf-6da4267c875b",
   "metadata": {},
   "source": [
    "#### **3.2.13 Thu nhập**\n",
    "\n",
    "<div style=\"display: flex; justify-content: center\">\n",
    "    <img\n",
    "        src=\"./images/income_codebook.png\"\n",
    "        style=\"width: 800px;\"\n",
    "    />\n",
    "</div>"
   ]
  },
  {
   "cell_type": "code",
   "execution_count": 411,
   "id": "797501c3-a639-437e-9f78-fdb2274c6137",
   "metadata": {},
   "outputs": [
    {
     "data": {
      "text/plain": [
       "array([ 2.,  7.,  6.,  9.,  3.,  5.,  4.,  8., 11., 10.,  1.])"
      ]
     },
     "execution_count": 411,
     "metadata": {},
     "output_type": "execute_result"
    }
   ],
   "source": [
    "diabetes_df_2023 = diabetes_df_2023[diabetes_df_2023['Income'] != 77]\n",
    "diabetes_df_2023 = diabetes_df_2023[diabetes_df_2023['Income'] != 99]\n",
    "diabetes_df_2023['Income'].unique()"
   ]
  },
  {
   "cell_type": "markdown",
   "id": "2ff7ca16-8f2c-4b19-8f92-21b7fd35e4a7",
   "metadata": {},
   "source": [
    "### **3.3 Thống kê**"
   ]
  },
  {
   "cell_type": "code",
   "execution_count": 413,
   "id": "66124ce1-2245-4b95-a001-ad3d3c2997c8",
   "metadata": {},
   "outputs": [
    {
     "name": "stdout",
     "output_type": "stream",
     "text": [
      "<class 'pandas.core.frame.DataFrame'>\n",
      "Index: 276359 entries, 2 to 433321\n",
      "Data columns (total 13 columns):\n",
      " #   Column                Non-Null Count   Dtype  \n",
      "---  ------                --------------   -----  \n",
      " 0   Diabetes_012          276359 non-null  float64\n",
      " 1   HighBP                276359 non-null  float64\n",
      " 2   HighChol              276359 non-null  float64\n",
      " 3   BMI                   276359 non-null  float64\n",
      " 4   Stroke                276359 non-null  float64\n",
      " 5   HeartDiseaseorAttack  276359 non-null  float64\n",
      " 6   PhysActivity          276359 non-null  float64\n",
      " 7   GenHlth               276359 non-null  float64\n",
      " 8   MentHlth              276359 non-null  float64\n",
      " 9   PhysHlth              276359 non-null  float64\n",
      " 10  DiffWalk              276359 non-null  float64\n",
      " 11  Age                   276359 non-null  float64\n",
      " 12  Income                276359 non-null  float64\n",
      "dtypes: float64(13)\n",
      "memory usage: 29.5 MB\n"
     ]
    }
   ],
   "source": [
    "diabetes_df_2023.info()"
   ]
  },
  {
   "cell_type": "code",
   "execution_count": 414,
   "id": "d55e3996-2f5e-4156-a912-5f3517cc80b4",
   "metadata": {},
   "outputs": [
    {
     "data": {
      "text/html": [
       "<div>\n",
       "<style scoped>\n",
       "    .dataframe tbody tr th:only-of-type {\n",
       "        vertical-align: middle;\n",
       "    }\n",
       "\n",
       "    .dataframe tbody tr th {\n",
       "        vertical-align: top;\n",
       "    }\n",
       "\n",
       "    .dataframe thead th {\n",
       "        text-align: right;\n",
       "    }\n",
       "</style>\n",
       "<table border=\"1\" class=\"dataframe\">\n",
       "  <thead>\n",
       "    <tr style=\"text-align: right;\">\n",
       "      <th></th>\n",
       "      <th>count</th>\n",
       "      <th>mean</th>\n",
       "      <th>std</th>\n",
       "      <th>min</th>\n",
       "      <th>25%</th>\n",
       "      <th>50%</th>\n",
       "      <th>75%</th>\n",
       "      <th>max</th>\n",
       "    </tr>\n",
       "  </thead>\n",
       "  <tbody>\n",
       "    <tr>\n",
       "      <th>Diabetes_012</th>\n",
       "      <td>276359.0</td>\n",
       "      <td>0.317504</td>\n",
       "      <td>0.713517</td>\n",
       "      <td>0.0</td>\n",
       "      <td>0.0</td>\n",
       "      <td>0.0</td>\n",
       "      <td>0.0</td>\n",
       "      <td>2.0</td>\n",
       "    </tr>\n",
       "    <tr>\n",
       "      <th>HighBP</th>\n",
       "      <td>276359.0</td>\n",
       "      <td>0.429637</td>\n",
       "      <td>0.495025</td>\n",
       "      <td>0.0</td>\n",
       "      <td>0.0</td>\n",
       "      <td>0.0</td>\n",
       "      <td>1.0</td>\n",
       "      <td>1.0</td>\n",
       "    </tr>\n",
       "    <tr>\n",
       "      <th>HighChol</th>\n",
       "      <td>276359.0</td>\n",
       "      <td>0.418734</td>\n",
       "      <td>0.493353</td>\n",
       "      <td>0.0</td>\n",
       "      <td>0.0</td>\n",
       "      <td>0.0</td>\n",
       "      <td>1.0</td>\n",
       "      <td>1.0</td>\n",
       "    </tr>\n",
       "    <tr>\n",
       "      <th>BMI</th>\n",
       "      <td>276359.0</td>\n",
       "      <td>28.802934</td>\n",
       "      <td>6.527327</td>\n",
       "      <td>12.0</td>\n",
       "      <td>24.0</td>\n",
       "      <td>28.0</td>\n",
       "      <td>32.0</td>\n",
       "      <td>100.0</td>\n",
       "    </tr>\n",
       "    <tr>\n",
       "      <th>Stroke</th>\n",
       "      <td>276359.0</td>\n",
       "      <td>0.042260</td>\n",
       "      <td>0.201183</td>\n",
       "      <td>0.0</td>\n",
       "      <td>0.0</td>\n",
       "      <td>0.0</td>\n",
       "      <td>0.0</td>\n",
       "      <td>1.0</td>\n",
       "    </tr>\n",
       "    <tr>\n",
       "      <th>HeartDiseaseorAttack</th>\n",
       "      <td>276359.0</td>\n",
       "      <td>0.088939</td>\n",
       "      <td>0.284656</td>\n",
       "      <td>0.0</td>\n",
       "      <td>0.0</td>\n",
       "      <td>0.0</td>\n",
       "      <td>0.0</td>\n",
       "      <td>1.0</td>\n",
       "    </tr>\n",
       "    <tr>\n",
       "      <th>PhysActivity</th>\n",
       "      <td>276359.0</td>\n",
       "      <td>0.774341</td>\n",
       "      <td>0.418017</td>\n",
       "      <td>0.0</td>\n",
       "      <td>1.0</td>\n",
       "      <td>1.0</td>\n",
       "      <td>1.0</td>\n",
       "      <td>1.0</td>\n",
       "    </tr>\n",
       "    <tr>\n",
       "      <th>GenHlth</th>\n",
       "      <td>276359.0</td>\n",
       "      <td>2.580068</td>\n",
       "      <td>1.031916</td>\n",
       "      <td>1.0</td>\n",
       "      <td>2.0</td>\n",
       "      <td>3.0</td>\n",
       "      <td>3.0</td>\n",
       "      <td>5.0</td>\n",
       "    </tr>\n",
       "    <tr>\n",
       "      <th>MentHlth</th>\n",
       "      <td>276359.0</td>\n",
       "      <td>4.198716</td>\n",
       "      <td>8.090295</td>\n",
       "      <td>0.0</td>\n",
       "      <td>0.0</td>\n",
       "      <td>0.0</td>\n",
       "      <td>4.0</td>\n",
       "      <td>30.0</td>\n",
       "    </tr>\n",
       "    <tr>\n",
       "      <th>PhysHlth</th>\n",
       "      <td>276359.0</td>\n",
       "      <td>4.416668</td>\n",
       "      <td>8.721929</td>\n",
       "      <td>0.0</td>\n",
       "      <td>0.0</td>\n",
       "      <td>0.0</td>\n",
       "      <td>4.0</td>\n",
       "      <td>30.0</td>\n",
       "    </tr>\n",
       "    <tr>\n",
       "      <th>DiffWalk</th>\n",
       "      <td>276359.0</td>\n",
       "      <td>0.153641</td>\n",
       "      <td>0.360605</td>\n",
       "      <td>0.0</td>\n",
       "      <td>0.0</td>\n",
       "      <td>0.0</td>\n",
       "      <td>0.0</td>\n",
       "      <td>1.0</td>\n",
       "    </tr>\n",
       "    <tr>\n",
       "      <th>Age</th>\n",
       "      <td>276359.0</td>\n",
       "      <td>7.973940</td>\n",
       "      <td>3.352777</td>\n",
       "      <td>1.0</td>\n",
       "      <td>5.0</td>\n",
       "      <td>8.0</td>\n",
       "      <td>11.0</td>\n",
       "      <td>13.0</td>\n",
       "    </tr>\n",
       "    <tr>\n",
       "      <th>Income</th>\n",
       "      <td>276359.0</td>\n",
       "      <td>7.155660</td>\n",
       "      <td>2.396066</td>\n",
       "      <td>1.0</td>\n",
       "      <td>6.0</td>\n",
       "      <td>7.0</td>\n",
       "      <td>9.0</td>\n",
       "      <td>11.0</td>\n",
       "    </tr>\n",
       "  </tbody>\n",
       "</table>\n",
       "</div>"
      ],
      "text/plain": [
       "                         count       mean       std   min   25%   50%   75%  \\\n",
       "Diabetes_012          276359.0   0.317504  0.713517   0.0   0.0   0.0   0.0   \n",
       "HighBP                276359.0   0.429637  0.495025   0.0   0.0   0.0   1.0   \n",
       "HighChol              276359.0   0.418734  0.493353   0.0   0.0   0.0   1.0   \n",
       "BMI                   276359.0  28.802934  6.527327  12.0  24.0  28.0  32.0   \n",
       "Stroke                276359.0   0.042260  0.201183   0.0   0.0   0.0   0.0   \n",
       "HeartDiseaseorAttack  276359.0   0.088939  0.284656   0.0   0.0   0.0   0.0   \n",
       "PhysActivity          276359.0   0.774341  0.418017   0.0   1.0   1.0   1.0   \n",
       "GenHlth               276359.0   2.580068  1.031916   1.0   2.0   3.0   3.0   \n",
       "MentHlth              276359.0   4.198716  8.090295   0.0   0.0   0.0   4.0   \n",
       "PhysHlth              276359.0   4.416668  8.721929   0.0   0.0   0.0   4.0   \n",
       "DiffWalk              276359.0   0.153641  0.360605   0.0   0.0   0.0   0.0   \n",
       "Age                   276359.0   7.973940  3.352777   1.0   5.0   8.0  11.0   \n",
       "Income                276359.0   7.155660  2.396066   1.0   6.0   7.0   9.0   \n",
       "\n",
       "                        max  \n",
       "Diabetes_012            2.0  \n",
       "HighBP                  1.0  \n",
       "HighChol                1.0  \n",
       "BMI                   100.0  \n",
       "Stroke                  1.0  \n",
       "HeartDiseaseorAttack    1.0  \n",
       "PhysActivity            1.0  \n",
       "GenHlth                 5.0  \n",
       "MentHlth               30.0  \n",
       "PhysHlth               30.0  \n",
       "DiffWalk                1.0  \n",
       "Age                    13.0  \n",
       "Income                 11.0  "
      ]
     },
     "execution_count": 414,
     "metadata": {},
     "output_type": "execute_result"
    }
   ],
   "source": [
    "diabetes_df_2023.describe().T"
   ]
  },
  {
   "cell_type": "markdown",
   "id": "c0475795-0297-461d-9f58-e928c3370c95",
   "metadata": {},
   "source": [
    "### **3.4 Thêm các featue**"
   ]
  },
  {
   "cell_type": "code",
   "execution_count": 416,
   "id": "27f3231d-86aa-4142-92f5-6f0e6fe79d69",
   "metadata": {},
   "outputs": [],
   "source": [
    "diabetes_df_2023['HlthScore'] = (diabetes_df_2023['GenHlth'] / 5.) + \\\n",
    "                                (diabetes_df_2023['MentHlth'] / 30.) + \\\n",
    "                                (diabetes_df_2023['PhysHlth'] / 30.)"
   ]
  },
  {
   "cell_type": "code",
   "execution_count": 417,
   "id": "f1c822d3-521c-4f2d-9634-91292476ec2f",
   "metadata": {},
   "outputs": [],
   "source": [
    "diabetes_df_2023['RiskScore'] = diabetes_df_2023['HighBP'] + \\\n",
    "                                diabetes_df_2023['HighChol'] + \\\n",
    "                                diabetes_df_2023['HeartDiseaseorAttack'] + \\\n",
    "                                diabetes_df_2023['Stroke']"
   ]
  },
  {
   "cell_type": "code",
   "execution_count": 418,
   "id": "e9380c76-6237-4f79-9340-da4a6a401e24",
   "metadata": {},
   "outputs": [],
   "source": [
    "diabetes_df_2023['CardioRisk'] = diabetes_df_2023['HighBP'] + \\\n",
    "                                diabetes_df_2023['HighChol'] + \\\n",
    "                                (diabetes_df_2023['BMI'] > 30).astype(int)"
   ]
  },
  {
   "cell_type": "code",
   "execution_count": 419,
   "id": "14b1eda1-9327-4fe4-a779-4bbcf1b9d54e",
   "metadata": {},
   "outputs": [],
   "source": [
    "diabetes_df_2023.drop(columns=['Stroke', 'MentHlth'], inplace=True)"
   ]
  },
  {
   "cell_type": "code",
   "execution_count": 420,
   "id": "63f8936d-0d3e-4da2-813c-05751c739fb0",
   "metadata": {},
   "outputs": [
    {
     "name": "stdout",
     "output_type": "stream",
     "text": [
      "<class 'pandas.core.frame.DataFrame'>\n",
      "Index: 276359 entries, 2 to 433321\n",
      "Data columns (total 14 columns):\n",
      " #   Column                Non-Null Count   Dtype  \n",
      "---  ------                --------------   -----  \n",
      " 0   Diabetes_012          276359 non-null  float64\n",
      " 1   HighBP                276359 non-null  float64\n",
      " 2   HighChol              276359 non-null  float64\n",
      " 3   BMI                   276359 non-null  float64\n",
      " 4   HeartDiseaseorAttack  276359 non-null  float64\n",
      " 5   PhysActivity          276359 non-null  float64\n",
      " 6   GenHlth               276359 non-null  float64\n",
      " 7   PhysHlth              276359 non-null  float64\n",
      " 8   DiffWalk              276359 non-null  float64\n",
      " 9   Age                   276359 non-null  float64\n",
      " 10  Income                276359 non-null  float64\n",
      " 11  HlthScore             276359 non-null  float64\n",
      " 12  RiskScore             276359 non-null  float64\n",
      " 13  CardioRisk            276359 non-null  float64\n",
      "dtypes: float64(14)\n",
      "memory usage: 31.6 MB\n"
     ]
    }
   ],
   "source": [
    "diabetes_df_2023.info()"
   ]
  },
  {
   "cell_type": "code",
   "execution_count": 421,
   "id": "e360b163-57e2-4b13-b8dc-7e459cfa02bd",
   "metadata": {},
   "outputs": [],
   "source": [
    "columns = ['HeartDiseaseorAttack', 'HlthScore', 'PhysHlth', 'RiskScore', 'BMI', 'Age',\n",
    "          'GenHlth', 'DiffWalk', 'HighChol', 'Income', 'PhysActivity', 'HighBP',\n",
    "          'CardioRisk', 'Diabetes_012']\n",
    "diabetes_df_2023 = diabetes_df_2023.reindex(columns=columns)"
   ]
  },
  {
   "cell_type": "code",
   "execution_count": 422,
   "id": "71cd7001-74e6-42e2-9214-2f4ed3dd0970",
   "metadata": {},
   "outputs": [
    {
     "data": {
      "text/html": [
       "<div>\n",
       "<style scoped>\n",
       "    .dataframe tbody tr th:only-of-type {\n",
       "        vertical-align: middle;\n",
       "    }\n",
       "\n",
       "    .dataframe tbody tr th {\n",
       "        vertical-align: top;\n",
       "    }\n",
       "\n",
       "    .dataframe thead th {\n",
       "        text-align: right;\n",
       "    }\n",
       "</style>\n",
       "<table border=\"1\" class=\"dataframe\">\n",
       "  <thead>\n",
       "    <tr style=\"text-align: right;\">\n",
       "      <th></th>\n",
       "      <th>HeartDiseaseorAttack</th>\n",
       "      <th>HlthScore</th>\n",
       "      <th>PhysHlth</th>\n",
       "      <th>RiskScore</th>\n",
       "      <th>BMI</th>\n",
       "      <th>Age</th>\n",
       "      <th>GenHlth</th>\n",
       "      <th>DiffWalk</th>\n",
       "      <th>HighChol</th>\n",
       "      <th>Income</th>\n",
       "      <th>PhysActivity</th>\n",
       "      <th>HighBP</th>\n",
       "      <th>CardioRisk</th>\n",
       "      <th>Diabetes_012</th>\n",
       "    </tr>\n",
       "  </thead>\n",
       "  <tbody>\n",
       "    <tr>\n",
       "      <th>2</th>\n",
       "      <td>0.0</td>\n",
       "      <td>1.066667</td>\n",
       "      <td>6.0</td>\n",
       "      <td>2.0</td>\n",
       "      <td>22.0</td>\n",
       "      <td>13.0</td>\n",
       "      <td>4.0</td>\n",
       "      <td>1.0</td>\n",
       "      <td>1.0</td>\n",
       "      <td>2.0</td>\n",
       "      <td>1.0</td>\n",
       "      <td>1.0</td>\n",
       "      <td>2.0</td>\n",
       "      <td>0.0</td>\n",
       "    </tr>\n",
       "    <tr>\n",
       "      <th>4</th>\n",
       "      <td>0.0</td>\n",
       "      <td>0.800000</td>\n",
       "      <td>0.0</td>\n",
       "      <td>1.0</td>\n",
       "      <td>26.0</td>\n",
       "      <td>12.0</td>\n",
       "      <td>4.0</td>\n",
       "      <td>1.0</td>\n",
       "      <td>0.0</td>\n",
       "      <td>7.0</td>\n",
       "      <td>1.0</td>\n",
       "      <td>1.0</td>\n",
       "      <td>1.0</td>\n",
       "      <td>2.0</td>\n",
       "    </tr>\n",
       "    <tr>\n",
       "      <th>5</th>\n",
       "      <td>0.0</td>\n",
       "      <td>0.766667</td>\n",
       "      <td>2.0</td>\n",
       "      <td>2.0</td>\n",
       "      <td>30.0</td>\n",
       "      <td>9.0</td>\n",
       "      <td>3.0</td>\n",
       "      <td>0.0</td>\n",
       "      <td>1.0</td>\n",
       "      <td>7.0</td>\n",
       "      <td>1.0</td>\n",
       "      <td>1.0</td>\n",
       "      <td>2.0</td>\n",
       "      <td>0.0</td>\n",
       "    </tr>\n",
       "    <tr>\n",
       "      <th>8</th>\n",
       "      <td>0.0</td>\n",
       "      <td>0.766667</td>\n",
       "      <td>5.0</td>\n",
       "      <td>2.0</td>\n",
       "      <td>33.0</td>\n",
       "      <td>13.0</td>\n",
       "      <td>3.0</td>\n",
       "      <td>1.0</td>\n",
       "      <td>1.0</td>\n",
       "      <td>6.0</td>\n",
       "      <td>0.0</td>\n",
       "      <td>1.0</td>\n",
       "      <td>3.0</td>\n",
       "      <td>0.0</td>\n",
       "    </tr>\n",
       "    <tr>\n",
       "      <th>9</th>\n",
       "      <td>1.0</td>\n",
       "      <td>0.600000</td>\n",
       "      <td>0.0</td>\n",
       "      <td>3.0</td>\n",
       "      <td>23.0</td>\n",
       "      <td>12.0</td>\n",
       "      <td>3.0</td>\n",
       "      <td>0.0</td>\n",
       "      <td>1.0</td>\n",
       "      <td>7.0</td>\n",
       "      <td>1.0</td>\n",
       "      <td>1.0</td>\n",
       "      <td>2.0</td>\n",
       "      <td>2.0</td>\n",
       "    </tr>\n",
       "  </tbody>\n",
       "</table>\n",
       "</div>"
      ],
      "text/plain": [
       "   HeartDiseaseorAttack  HlthScore  PhysHlth  RiskScore   BMI   Age  GenHlth  \\\n",
       "2                   0.0   1.066667       6.0        2.0  22.0  13.0      4.0   \n",
       "4                   0.0   0.800000       0.0        1.0  26.0  12.0      4.0   \n",
       "5                   0.0   0.766667       2.0        2.0  30.0   9.0      3.0   \n",
       "8                   0.0   0.766667       5.0        2.0  33.0  13.0      3.0   \n",
       "9                   1.0   0.600000       0.0        3.0  23.0  12.0      3.0   \n",
       "\n",
       "   DiffWalk  HighChol  Income  PhysActivity  HighBP  CardioRisk  Diabetes_012  \n",
       "2       1.0       1.0     2.0           1.0     1.0         2.0           0.0  \n",
       "4       1.0       0.0     7.0           1.0     1.0         1.0           2.0  \n",
       "5       0.0       1.0     7.0           1.0     1.0         2.0           0.0  \n",
       "8       1.0       1.0     6.0           0.0     1.0         3.0           0.0  \n",
       "9       0.0       1.0     7.0           1.0     1.0         2.0           2.0  "
      ]
     },
     "execution_count": 422,
     "metadata": {},
     "output_type": "execute_result"
    }
   ],
   "source": [
    "diabetes_df_2023.head()"
   ]
  },
  {
   "cell_type": "code",
   "execution_count": 423,
   "id": "2ba740ce-61ff-4dc1-b991-0d212274dc8e",
   "metadata": {},
   "outputs": [
    {
     "data": {
      "text/plain": [
       "Diabetes_012\n",
       "0.0    229019\n",
       "2.0     40405\n",
       "1.0      6935\n",
       "Name: count, dtype: int64"
      ]
     },
     "execution_count": 423,
     "metadata": {},
     "output_type": "execute_result"
    }
   ],
   "source": [
    "diabetes_df_2023['Diabetes_012'].value_counts()"
   ]
  },
  {
   "cell_type": "code",
   "execution_count": 424,
   "id": "15e6e31d-6bb7-4115-b022-f7d9ccd1b759",
   "metadata": {},
   "outputs": [],
   "source": [
    "X = diabetes_df_2023.drop(columns=['Diabetes_012'])\n",
    "y_true = diabetes_df_2023['Diabetes_012']"
   ]
  },
  {
   "cell_type": "code",
   "execution_count": 425,
   "id": "86616e05-a2a1-4bed-af05-2864890a7f33",
   "metadata": {},
   "outputs": [],
   "source": [
    "# Load scaler\n",
    "smote_scaler = joblib.load('./output/scalers/smote_scaler.joblib')"
   ]
  },
  {
   "cell_type": "code",
   "execution_count": 426,
   "id": "7e6f7c85-9605-4aea-805d-06f9507d97ec",
   "metadata": {},
   "outputs": [],
   "source": [
    "scaled_X = smote_scaler.transform(X)"
   ]
  },
  {
   "cell_type": "code",
   "execution_count": 459,
   "id": "e94c95be-03d8-4ce0-b040-a2dce12395c9",
   "metadata": {},
   "outputs": [],
   "source": [
    "# Load models\n",
    "rf_model = joblib.load('./output/models/best_rf_model.joblib')"
   ]
  },
  {
   "cell_type": "code",
   "execution_count": 461,
   "id": "36706474-9641-489f-b3ec-bd1f0540df9d",
   "metadata": {},
   "outputs": [],
   "source": [
    "y_pred = rf_model.predict(scaled_X)"
   ]
  },
  {
   "cell_type": "code",
   "execution_count": 465,
   "id": "221972cf-4a71-4071-b6b1-5f418740aee5",
   "metadata": {},
   "outputs": [],
   "source": [
    "def evaluate_model(y_true, y_pred, model_name=\"Model\"):\n",
    "    \"\"\"\n",
    "    Đánh giá mô hình bằng các metrics khác nhau\n",
    "\n",
    "    Parameters:\n",
    "        y_true: nhãn thực tế\n",
    "        y_pred: nhãn dự đoán\n",
    "        model_name: tên mô hình (mặc định là \"Model\")\n",
    "    \"\"\"\n",
    "    # Tính toán các metrics\n",
    "    accuracy = accuracy_score(y_true, y_pred)\n",
    "    precision_macro = precision_score(y_true, y_pred, average='macro')\n",
    "    recall_macro = recall_score(y_true, y_pred, average='macro')\n",
    "    f1_macro = f1_score(y_true, y_pred, average='macro')\n",
    "\n",
    "    # In kết quả\n",
    "    print(f\"Kết quả đánh giá cho {model_name}:\")\n",
    "    print(\"-\" * 50)\n",
    "    print(f\"Accuracy: {accuracy:.4f}\")\n",
    "    print(f\"Precision (macro): {precision_macro:.4f}\")\n",
    "    print(f\"Recall (macro): {recall_macro:.4f}\")\n",
    "    print(f\"F1-score (macro): {f1_macro:.4f}\")\n",
    "    print(\"\\nBảng phân loại chi tiết:\")\n",
    "    print(\"-\" * 50)\n",
    "    print(classification_report(y_true, y_pred))"
   ]
  },
  {
   "cell_type": "code",
   "execution_count": 467,
   "id": "944aaf00-d64b-4d63-8fc4-3cd18676ff9b",
   "metadata": {},
   "outputs": [
    {
     "name": "stdout",
     "output_type": "stream",
     "text": [
      "Kết quả đánh giá cho Random Forest:\n",
      "--------------------------------------------------\n",
      "Accuracy: 0.7205\n",
      "Precision (macro): 0.3910\n",
      "Recall (macro): 0.4200\n",
      "F1-score (macro): 0.3959\n",
      "\n",
      "Bảng phân loại chi tiết:\n",
      "--------------------------------------------------\n",
      "              precision    recall  f1-score   support\n",
      "\n",
      "         0.0       0.87      0.79      0.83    229019\n",
      "         1.0       0.02      0.01      0.01      6935\n",
      "         2.0       0.28      0.47      0.35     40405\n",
      "\n",
      "    accuracy                           0.72    276359\n",
      "   macro avg       0.39      0.42      0.40    276359\n",
      "weighted avg       0.77      0.72      0.74    276359\n",
      "\n"
     ]
    }
   ],
   "source": [
    "evaluate_model(y_true, y_pred, 'Random Forest')"
   ]
  }
 ],
 "metadata": {
  "kernelspec": {
   "display_name": "Python [conda env:base] *",
   "language": "python",
   "name": "conda-base-py"
  },
  "language_info": {
   "codemirror_mode": {
    "name": "ipython",
    "version": 3
   },
   "file_extension": ".py",
   "mimetype": "text/x-python",
   "name": "python",
   "nbconvert_exporter": "python",
   "pygments_lexer": "ipython3",
   "version": "3.12.7"
  },
  "panel-cell-order": [
   "d9d87a02-0c07-461a-99e9-aac57f0073c3",
   "73b664fe-5113-448c-a498-f71acbb548a4",
   "c2b1048f-959c-4d76-84b1-5e7169c5d251"
  ]
 },
 "nbformat": 4,
 "nbformat_minor": 5
}
