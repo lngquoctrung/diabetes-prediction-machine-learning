{
 "cells": [
  {
   "cell_type": "markdown",
   "id": "d9d87a02-0c07-461a-99e9-aac57f0073c3",
   "metadata": {},
   "source": [
    "## **0. Giới thiệu**\n",
    "\n",
    "Trong nội dung này, chúng ta sẽ sử dụng lại những mô hình đã được huấn luyện trên bộ dữ liệu **Diabetes** năm **2021** và dự đoán dựa trên bộ dữ liệu **Diabetes** được trích xuất của năm **2023**.\n",
    "\n",
    "Để có được bộ dữ liệu **Diabetes của năm 2023**, chúng ta sẽ sử dụng đến bộ dữ liệu **BRFSS** được **CDC** công bố vào cuối năm 2023. Thực tế, bộ dữ liệu của năm 2021 cũng được lấy từ dữ liệu BRFSS của năm 2021, nên chúng ta có thể dựa vào điều này để khai thác được dữ liệu mới cho năm 2023.\n",
    "\n",
    "**Lưu ý**: Đây coi thể coi là **phương pháp thử nghiệm** kiểm tra độ chính xác của mô hình trên dữ liệu mới, trên thực tế thì 2 bộ dữ liệu này đã có sự thay đổi trong 2 năm trở lại đây. Ngoài ra, chúng ta được biết là năm 2021 là năm mà vấn đề về bệnh **COVID-19** vẫn còn đang là chủ đề nóng và sẽ có vài sự ảnh hưởng đến kết quả của cuộc khảo sát, nhưng đến những năm gần đây hay thời điểm hiện tại thì nó đã đã không còn là vấn đề đau đầu cho lĩnh vực y tế, nên đôi khi cả 2 bộ dữ liệu này sẽ có một vài sự thay đổi hoặc chênh lệch trong suốt 2 năm qua. Mặc dù vậy, dựa theo codebook của năm [2021](https://www.cdc.gov/brfss/annual_data/annual_2021.html) và năm [2023](https://www.cdc.gov/brfss/annual_data/annual_2023.html) của bộ dữ liệu **BRFSS** thì chúng ta có thể thấy được sự thay đổi về thông tin của bệnh tiểu đường là không quá nhiều trong 2 năm qua. Nên việc thử nghiệm này có thể được coi là **khả thi**."
   ]
  },
  {
   "cell_type": "markdown",
   "id": "73b664fe-5113-448c-a498-f71acbb548a4",
   "metadata": {},
   "source": [
    "## **1. Thư viện**"
   ]
  },
  {
   "cell_type": "code",
   "execution_count": 14,
   "id": "7492da1e-33bf-41a0-ba31-63835a3acf7c",
   "metadata": {},
   "outputs": [],
   "source": [
    "import pandas as pd\n",
    "import requests\n",
    "import os\n",
    "import joblib\n",
    "import zipfile"
   ]
  },
  {
   "cell_type": "markdown",
   "id": "c2b1048f-959c-4d76-84b1-5e7169c5d251",
   "metadata": {},
   "source": [
    "## **2. Dữ liệu**"
   ]
  },
  {
   "cell_type": "code",
   "execution_count": null,
   "id": "4b5a11ce-db06-437d-ba8c-b752d9aeb664",
   "metadata": {},
   "outputs": [],
   "source": []
  }
 ],
 "metadata": {
  "kernelspec": {
   "display_name": "Python [conda env:base] *",
   "language": "python",
   "name": "conda-base-py"
  },
  "language_info": {
   "codemirror_mode": {
    "name": "ipython",
    "version": 3
   },
   "file_extension": ".py",
   "mimetype": "text/x-python",
   "name": "python",
   "nbconvert_exporter": "python",
   "pygments_lexer": "ipython3",
   "version": "3.12.7"
  }
 },
 "nbformat": 4,
 "nbformat_minor": 5
}
